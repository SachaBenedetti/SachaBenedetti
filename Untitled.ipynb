{
 "cells": [
  {
   "cell_type": "code",
   "execution_count": 8,
   "id": "0452eb32-57c4-47f2-9bb9-c864df019214",
   "metadata": {},
   "outputs": [],
   "source": [
    "import numpy as np\n",
    "import matplotlib.pyplot as plt\n",
    "import pandas as pd"
   ]
  },
  {
   "cell_type": "code",
   "execution_count": 27,
   "id": "84d2e39a-6038-43e3-81b5-9a133f221424",
   "metadata": {},
   "outputs": [
    {
     "name": "stdout",
     "output_type": "stream",
     "text": [
      "Index(['sexe', 'preusuel', 'annais', 'dpt', 'nombre'], dtype='object')\n"
     ]
    },
    {
     "data": {
      "text/html": [
       "<div>\n",
       "<style scoped>\n",
       "    .dataframe tbody tr th:only-of-type {\n",
       "        vertical-align: middle;\n",
       "    }\n",
       "\n",
       "    .dataframe tbody tr th {\n",
       "        vertical-align: top;\n",
       "    }\n",
       "\n",
       "    .dataframe thead th {\n",
       "        text-align: right;\n",
       "    }\n",
       "</style>\n",
       "<table border=\"1\" class=\"dataframe\">\n",
       "  <thead>\n",
       "    <tr style=\"text-align: right;\">\n",
       "      <th></th>\n",
       "      <th>sexe</th>\n",
       "      <th>preusuel</th>\n",
       "      <th>annais</th>\n",
       "      <th>dpt</th>\n",
       "      <th>nombre</th>\n",
       "    </tr>\n",
       "  </thead>\n",
       "  <tbody>\n",
       "    <tr>\n",
       "      <th>1</th>\n",
       "      <td>1</td>\n",
       "      <td>_PRENOMS_RARES</td>\n",
       "      <td>2000</td>\n",
       "      <td>75</td>\n",
       "      <td>1264</td>\n",
       "    </tr>\n",
       "    <tr>\n",
       "      <th>2</th>\n",
       "      <td>1</td>\n",
       "      <td>_PRENOMS_RARES</td>\n",
       "      <td>2001</td>\n",
       "      <td>75</td>\n",
       "      <td>1360</td>\n",
       "    </tr>\n",
       "    <tr>\n",
       "      <th>3</th>\n",
       "      <td>1</td>\n",
       "      <td>_PRENOMS_RARES</td>\n",
       "      <td>2002</td>\n",
       "      <td>75</td>\n",
       "      <td>1399</td>\n",
       "    </tr>\n",
       "    <tr>\n",
       "      <th>4</th>\n",
       "      <td>1</td>\n",
       "      <td>_PRENOMS_RARES</td>\n",
       "      <td>2003</td>\n",
       "      <td>75</td>\n",
       "      <td>1350</td>\n",
       "    </tr>\n",
       "    <tr>\n",
       "      <th>5</th>\n",
       "      <td>1</td>\n",
       "      <td>_PRENOMS_RARES</td>\n",
       "      <td>2004</td>\n",
       "      <td>75</td>\n",
       "      <td>1471</td>\n",
       "    </tr>\n",
       "    <tr>\n",
       "      <th>...</th>\n",
       "      <td>...</td>\n",
       "      <td>...</td>\n",
       "      <td>...</td>\n",
       "      <td>...</td>\n",
       "      <td>...</td>\n",
       "    </tr>\n",
       "    <tr>\n",
       "      <th>41148</th>\n",
       "      <td>2</td>\n",
       "      <td>ZUZANNA</td>\n",
       "      <td>2009</td>\n",
       "      <td>75</td>\n",
       "      <td>6</td>\n",
       "    </tr>\n",
       "    <tr>\n",
       "      <th>41149</th>\n",
       "      <td>2</td>\n",
       "      <td>ZUZANNA</td>\n",
       "      <td>2010</td>\n",
       "      <td>75</td>\n",
       "      <td>3</td>\n",
       "    </tr>\n",
       "    <tr>\n",
       "      <th>41150</th>\n",
       "      <td>2</td>\n",
       "      <td>ZUZANNA</td>\n",
       "      <td>2013</td>\n",
       "      <td>75</td>\n",
       "      <td>3</td>\n",
       "    </tr>\n",
       "    <tr>\n",
       "      <th>41151</th>\n",
       "      <td>2</td>\n",
       "      <td>ZUZANNA</td>\n",
       "      <td>2015</td>\n",
       "      <td>75</td>\n",
       "      <td>4</td>\n",
       "    </tr>\n",
       "    <tr>\n",
       "      <th>41152</th>\n",
       "      <td>2</td>\n",
       "      <td>ZUZANNA</td>\n",
       "      <td>2018</td>\n",
       "      <td>75</td>\n",
       "      <td>4</td>\n",
       "    </tr>\n",
       "  </tbody>\n",
       "</table>\n",
       "<p>41152 rows × 5 columns</p>\n",
       "</div>"
      ],
      "text/plain": [
       "      sexe        preusuel annais dpt nombre\n",
       "1        1  _PRENOMS_RARES   2000  75   1264\n",
       "2        1  _PRENOMS_RARES   2001  75   1360\n",
       "3        1  _PRENOMS_RARES   2002  75   1399\n",
       "4        1  _PRENOMS_RARES   2003  75   1350\n",
       "5        1  _PRENOMS_RARES   2004  75   1471\n",
       "...    ...             ...    ...  ..    ...\n",
       "41148    2         ZUZANNA   2009  75      6\n",
       "41149    2         ZUZANNA   2010  75      3\n",
       "41150    2         ZUZANNA   2013  75      3\n",
       "41151    2         ZUZANNA   2015  75      4\n",
       "41152    2         ZUZANNA   2018  75      4\n",
       "\n",
       "[41152 rows x 5 columns]"
      ]
     },
     "execution_count": 27,
     "metadata": {},
     "output_type": "execute_result"
    }
   ],
   "source": [
    "# data = pd.read_csv('Dpt75depuis2000.csv')\n",
    "\n",
    "url = 'https://raw.githubusercontent.com/SachaBenedetti/SachaBenedetti/main/Dpt75depuis2000.csv'\n",
    "fields = [\"id\",\"sexe\",\"preusuel\",\"annais\",\"dpt\",\"nombre\"];\n",
    "\n",
    "data = pd.read_csv(url, sep=\";\", names=fields, encoding = \"ISO-8859-1\").iloc[1:, 1:]\n",
    "\n",
    "df = pd.DataFrame(data)\n",
    "datakeys = df.keys();\n",
    "print(datakeys)\n",
    "df"
   ]
  },
  {
   "cell_type": "code",
   "execution_count": 30,
   "id": "30d17e95",
   "metadata": {},
   "outputs": [
    {
     "data": {
      "text/plain": [
       "(41152, 5)"
      ]
     },
     "execution_count": 30,
     "metadata": {},
     "output_type": "execute_result"
    }
   ],
   "source": [
    "# data.shape\n",
    "# data.columns\n",
    "data.head"
   ]
  }
 ],
 "metadata": {
  "interpreter": {
   "hash": "6a9a64c831ed0f85305dfe6a73985805aa3f3dabc0161cb54899e7c46f21f577"
  },
  "kernelspec": {
   "display_name": "Python 3.9.10 64-bit",
   "language": "python",
   "name": "python3"
  },
  "language_info": {
   "codemirror_mode": {
    "name": "ipython",
    "version": 3
   },
   "file_extension": ".py",
   "mimetype": "text/x-python",
   "name": "python",
   "nbconvert_exporter": "python",
   "pygments_lexer": "ipython3",
   "version": "3.9.10"
  }
 },
 "nbformat": 4,
 "nbformat_minor": 5
}
