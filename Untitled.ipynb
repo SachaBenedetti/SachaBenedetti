{
 "cells": [
  {
   "cell_type": "code",
   "execution_count": 3,
   "id": "0452eb32-57c4-47f2-9bb9-c864df019214",
   "metadata": {},
   "outputs": [],
   "source": [
    "import numpy as np\n",
    "import matplotlib.pyplot as plt\n",
    "import pandas as pd"
   ]
  },
  {
   "cell_type": "code",
   "execution_count": 4,
   "id": "84d2e39a-6038-43e3-81b5-9a133f221424",
   "metadata": {},
   "outputs": [],
   "source": [
    "data = pd.read_csv('Dpt75depuis2000.csv')"
   ]
  },
  {
   "cell_type": "code",
   "execution_count": 5,
   "id": "91c2fbc0",
   "metadata": {},
   "outputs": [
    {
     "data": {
      "text/plain": [
       "(41152, 1)"
      ]
     },
     "execution_count": 5,
     "metadata": {},
     "output_type": "execute_result"
    }
   ],
   "source": [
    "data.shape"
   ]
  },
  {
   "cell_type": "code",
   "execution_count": 6,
   "id": "b61a351a",
   "metadata": {},
   "outputs": [
    {
     "data": {
      "text/plain": [
       "Index([';\"sexe\";\"preusuel\";\"annais\";\"dpt\";\"nombre\"'], dtype='object')"
      ]
     },
     "execution_count": 6,
     "metadata": {},
     "output_type": "execute_result"
    }
   ],
   "source": [
    "data.columns"
   ]
  },
  {
   "cell_type": "code",
   "execution_count": 7,
   "id": "6690cfca",
   "metadata": {},
   "outputs": [
    {
     "data": {
      "text/plain": [
       "<bound method NDFrame.head of       ;\"sexe\";\"preusuel\";\"annais\";\"dpt\";\"nombre\"\n",
       "0       8880;1;\"_PRENOMS_RARES\";\"2000\";\"75\";1264\n",
       "1       8978;1;\"_PRENOMS_RARES\";\"2001\";\"75\";1360\n",
       "2       9077;1;\"_PRENOMS_RARES\";\"2002\";\"75\";1399\n",
       "3       9175;1;\"_PRENOMS_RARES\";\"2003\";\"75\";1350\n",
       "4       9274;1;\"_PRENOMS_RARES\";\"2004\";\"75\";1471\n",
       "...                                          ...\n",
       "41147          3727536;2;\"ZUZANNA\";\"2009\";\"75\";6\n",
       "41148          3727537;2;\"ZUZANNA\";\"2010\";\"75\";3\n",
       "41149          3727538;2;\"ZUZANNA\";\"2013\";\"75\";3\n",
       "41150          3727539;2;\"ZUZANNA\";\"2015\";\"75\";4\n",
       "41151          3727541;2;\"ZUZANNA\";\"2018\";\"75\";4\n",
       "\n",
       "[41152 rows x 1 columns]>"
      ]
     },
     "execution_count": 7,
     "metadata": {},
     "output_type": "execute_result"
    }
   ],
   "source": [
    "data.head"
   ]
  },
  {
   "cell_type": "code",
   "execution_count": null,
   "id": "cc658cf5",
   "metadata": {},
   "outputs": [],
   "source": []
  }
 ],
 "metadata": {
  "kernelspec": {
   "display_name": "Python 3",
   "language": "python",
   "name": "python3"
  },
  "language_info": {
   "codemirror_mode": {
    "name": "ipython",
    "version": 3
   },
   "file_extension": ".py",
   "mimetype": "text/x-python",
   "name": "python",
   "nbconvert_exporter": "python",
   "pygments_lexer": "ipython3",
   "version": "3.8.8"
  }
 },
 "nbformat": 4,
 "nbformat_minor": 5
}
